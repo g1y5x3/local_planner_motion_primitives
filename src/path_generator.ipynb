{
 "cells": [
  {
   "cell_type": "code",
   "execution_count": 1,
   "id": "403b3338",
   "metadata": {},
   "outputs": [],
   "source": [
    "import numpy as np\n",
    "from scipy.spatial import cKDTree\n",
    "from scipy.interpolate import CubicSpline\n",
    "import matplotlib.pyplot as plt"
   ]
  },
  {
   "cell_type": "markdown",
   "id": "6f8c310c",
   "metadata": {},
   "source": [
    "## Parameters for path generation"
   ]
  },
  {
   "cell_type": "code",
   "execution_count": 2,
   "id": "7859d500",
   "metadata": {},
   "outputs": [],
   "source": [
    "dis = 1.0\n",
    "angle = 27\n",
    "delta_angle = angle / 3\n",
    "scale = 0.65\n",
    "\n",
    "path_start_all = []\n",
    "path_all = []\n",
    "path_list = []\n",
    "path_id = 0\n",
    "group_id = 0"
   ]
  },
  {
   "cell_type": "markdown",
   "id": "af29ebe6",
   "metadata": {},
   "source": [
    "## Generating paths"
   ]
  },
  {
   "cell_type": "code",
   "execution_count": 3,
   "id": "f3f90fca-d6c2-47ff-8f72-6f84b156e753",
   "metadata": {},
   "outputs": [],
   "source": [
    "for shift1 in np.arange(-angle, angle + delta_angle, delta_angle):\n",
    "\n",
    "    waypts_start = np.array([[0, 0], [dis, shift1]])\n",
    "    \n",
    "    path_start_r = np.arange(0, dis, 0.01)\n",
    "    cs_start = CubicSpline(waypts_start[:, 0], waypts_start[:, 1])\n",
    "    path_start_shift = cs_start(path_start_r)\n",
    "    \n",
    "    path_start_x = path_start_r * np.cos(np.radians(path_start_shift))\n",
    "    path_start_y = path_start_r * np.sin(np.radians(path_start_shift))\n",
    "    path_start_z = np.zeros_like(path_start_x)\n",
    "    \n",
    "    path_start = np.vstack((path_start_x, path_start_y, path_start_z, np.ones_like(path_start_x) * group_id))\n",
    "    path_start_all.append(path_start)\n",
    "    \n",
    "    for shift2 in np.arange(-angle * scale + shift1, angle * scale + shift1 + delta_angle * scale, delta_angle * scale):\n",
    "        for shift3 in np.arange(-angle * scale**2 + shift2, angle * scale**2 + shift2 + delta_angle * scale**2, delta_angle * scale**2):    \n",
    "            initial_waypts = np.column_stack((path_start_r, path_start_shift))\n",
    "            additional_waypts = np.array([\n",
    "                [2 * dis, shift2],\n",
    "                [3 * dis - 0.001, shift3],\n",
    "                [3 * dis, shift3]\n",
    "            ])\n",
    "            waypts = np.vstack((initial_waypts, additional_waypts))\n",
    "            \n",
    "            path_r = np.arange(0, waypts[-1, 0], 0.01)\n",
    "            cs = CubicSpline(waypts[:, 0], waypts[:, 1])\n",
    "            path_shift = cs(path_r)\n",
    "            \n",
    "            path_x = path_r * np.cos(np.radians(path_shift))\n",
    "            path_y = path_r * np.sin(np.radians(path_shift))\n",
    "            path_z = np.zeros_like(path_x)\n",
    "            \n",
    "            path = np.vstack((path_x, path_y, path_z, np.ones_like(path_x) * path_id, np.ones_like(path_x) * group_id)).T\n",
    "            path_all.append(path)\n",
    "            path_list.append([path_x[-1], path_y[-1], path_z[-1], path_id, group_id])\n",
    "            \n",
    "            # plt.plot(path_x, path_y)\n",
    "\n",
    "            path_id += 1\n",
    "    \n",
    "    group_id += 1"
   ]
  },
  {
   "cell_type": "code",
   "execution_count": 4,
   "id": "ee68caac-da1a-4c4d-9a16-bd5b3b040143",
   "metadata": {},
   "outputs": [
    {
     "data": {
      "text/plain": [
       "(700, 4)"
      ]
     },
     "execution_count": 4,
     "metadata": {},
     "output_type": "execute_result"
    }
   ],
   "source": [
    "pathStartAll = np.hstack(path_start_all).T\n",
    "pathStartAll.shape"
   ]
  },
  {
   "cell_type": "code",
   "execution_count": 5,
   "id": "75cac5e2-0fdb-44de-ab2d-3e7531ec6368",
   "metadata": {},
   "outputs": [
    {
     "data": {
      "text/plain": [
       "(360, 5)"
      ]
     },
     "execution_count": 5,
     "metadata": {},
     "output_type": "execute_result"
    }
   ],
   "source": [
    "pathList = np.vstack(path_list)\n",
    "pathList.shape"
   ]
  },
  {
   "cell_type": "code",
   "execution_count": 7,
   "id": "1ee2a39a-3918-4b8a-8558-e2c5110c7906",
   "metadata": {},
   "outputs": [
    {
     "data": {
      "text/plain": [
       "array([[ 0.00000000e+00,  0.00000000e+00,  0.00000000e+00,\n",
       "         0.00000000e+00,  0.00000000e+00],\n",
       "       [ 9.99988897e-03, -4.71237154e-05,  0.00000000e+00,\n",
       "         0.00000000e+00,  0.00000000e+00],\n",
       "       [ 1.99991117e-02, -1.88492769e-04,  0.00000000e+00,\n",
       "         0.00000000e+00,  0.00000000e+00],\n",
       "       ...,\n",
       "       [ 1.66333673e+00,  2.46053062e+00,  0.00000000e+00,\n",
       "         3.59000000e+02,  6.00000000e+00],\n",
       "       [ 1.66853845e+00,  2.46908473e+00,  0.00000000e+00,\n",
       "         3.59000000e+02,  6.00000000e+00],\n",
       "       [ 1.67389935e+00,  2.47753122e+00,  0.00000000e+00,\n",
       "         3.59000000e+02,  6.00000000e+00]])"
      ]
     },
     "execution_count": 7,
     "metadata": {},
     "output_type": "execute_result"
    }
   ],
   "source": [
    "np.vstack(path_all)"
   ]
  },
  {
   "cell_type": "code",
   "execution_count": null,
   "id": "8fb499fe",
   "metadata": {},
   "outputs": [],
   "source": [
    "colors = plt.cm.tab10(np.linspace(0, 1, 7))\n",
    "color_list = [tuple(color[:3]) for color in colors]\n",
    "\n",
    "fig = plt.figure(figsize=(10, 12))\n",
    "ax = fig.add_subplot(111)\n",
    "for path, path_l  in zip(path_all, path_list):\n",
    "    ax.plot(path[:, 0], path[:, 1], color=color_list[path_l[4]])\n",
    "ax.set_title(f'Paths Visualization colored by group id \\n{len(path_all)} paths with {len(path)} points each path')\n",
    "plt.xlabel('X (m)')\n",
    "plt.ylabel('Y (m)')\n",
    "plt.show()"
   ]
  },
  {
   "cell_type": "markdown",
   "id": "da361f79",
   "metadata": {},
   "source": [
    "## Parameters for patch matching and blocking\n",
    "These parameters are also used in the local_planner node (TODO: make it read from a yaml file)"
   ]
  },
  {
   "cell_type": "code",
   "execution_count": null,
   "id": "8d4ceac4",
   "metadata": {},
   "outputs": [],
   "source": [
    "voxel_size = 0.05\n",
    "search_radius = 0.45\n",
    "offset_x = 3.2\n",
    "offset_y = 4.5\n",
    "voxel_num_x = int((offset_x / voxel_size) + 1)\n",
    "voxel_num_y = int(2 * (offset_y / voxel_size) + 1)"
   ]
  },
  {
   "cell_type": "markdown",
   "id": "74a99752",
   "metadata": {},
   "source": [
    "## Divide the space within the defined search area into voxels"
   ]
  },
  {
   "cell_type": "code",
   "execution_count": null,
   "id": "d6b401b3",
   "metadata": {},
   "outputs": [],
   "source": [
    "voxel_points = []\n",
    "for ind_x in range(voxel_num_x):\n",
    "    x = offset_x - voxel_size * ind_x\n",
    "    scale_y = x / offset_x + search_radius / offset_y * (offset_x - x) / offset_x\n",
    "    for ind_y in range(voxel_num_y):\n",
    "        y = scale_y * (offset_y - voxel_size * ind_y)\n",
    "        voxel_points.append([x, y])\n",
    "\n",
    "voxel_points = np.array(voxel_points)"
   ]
  },
  {
   "cell_type": "code",
   "execution_count": null,
   "id": "3a9129eb",
   "metadata": {},
   "outputs": [],
   "source": [
    "fig = plt.figure()\n",
    "ax = fig.add_subplot(111, projection='3d')\n",
    "ax.plot(voxel_points[:, 0], voxel_points[:, 1], np.zeros(len(voxel_points)))\n",
    "ax.set_title(f'Voxel Points Visualization \\n{len(voxel_points)} voxels')\n",
    "plt.xlabel('X (m)')\n",
    "plt.ylabel('Y (m)')\n",
    "plt.show()"
   ]
  },
  {
   "cell_type": "markdown",
   "id": "0b2ba5dc",
   "metadata": {},
   "source": [
    "## Collision checking\n",
    "1. For every points in the path, check whether there is any point next to it within the radius in the voxel points"
   ]
  },
  {
   "cell_type": "code",
   "execution_count": null,
   "id": "2bd8ed6c",
   "metadata": {},
   "outputs": [],
   "source": [
    "path_points = np.vstack([path[:, :2] for path in path_all])\n",
    "np.shape(path_points)"
   ]
  },
  {
   "cell_type": "code",
   "execution_count": null,
   "id": "b3cf70a2",
   "metadata": {},
   "outputs": [],
   "source": [
    "len(voxel_points)"
   ]
  },
  {
   "cell_type": "code",
   "execution_count": null,
   "id": "ac2518d0",
   "metadata": {},
   "outputs": [],
   "source": [
    "\n",
    "kdtree = cKDTree(path_points)\n",
    "indices = kdtree.query_ball_point(voxel_points, search_radius)\n",
    "indices"
   ]
  },
  {
   "cell_type": "code",
   "execution_count": null,
   "id": "d4307601",
   "metadata": {},
   "outputs": [],
   "source": [
    "len(indices)"
   ]
  },
  {
   "cell_type": "code",
   "execution_count": null,
   "id": "8a5edf34",
   "metadata": {},
   "outputs": [],
   "source": []
  }
 ],
 "metadata": {
  "kernelspec": {
   "display_name": "Python 3 (ipykernel)",
   "language": "python",
   "name": "python3"
  },
  "language_info": {
   "codemirror_mode": {
    "name": "ipython",
    "version": 3
   },
   "file_extension": ".py",
   "mimetype": "text/x-python",
   "name": "python",
   "nbconvert_exporter": "python",
   "pygments_lexer": "ipython3",
   "version": "3.10.12"
  }
 },
 "nbformat": 4,
 "nbformat_minor": 5
}
